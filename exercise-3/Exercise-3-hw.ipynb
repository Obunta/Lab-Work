{
 "cells": [
  {
   "cell_type": "code",
   "execution_count": 4,
   "metadata": {
    "collapsed": false
   },
   "outputs": [
    {
     "name": "stdout",
     "output_type": "stream",
     "text": [
      "20\n",
      "['puposas', 'carne asade fries', 'soy']\n"
     ]
    },
    {
     "data": {
      "text/plain": [
       "3"
      ]
     },
     "execution_count": 4,
     "metadata": {},
     "output_type": "execute_result"
    }
   ],
   "source": [
    "#1 created new notebook\n",
    "\n",
    "#2 defining variables\n",
    "\n",
    "a = 3\n",
    "b = 17\n",
    "c = a + b\n",
    "\n",
    "favorite_animal = \"squid\"\n",
    "\n",
    "favorite_dinners = [\"puposas\", \"carne asade fries\", \"soy\"]\n",
    "\n",
    "num_fav_dinners = len(favorite_dinners)\n",
    "\n",
    "# print(c)\n",
    "# print(favorite_dinners)\n",
    "# num_fav_dinners     they printed out fine when testing"
   ]
  },
  {
   "cell_type": "code",
   "execution_count": 24,
   "metadata": {
    "collapsed": false
   },
   "outputs": [
    {
     "name": "stdout",
     "output_type": "stream",
     "text": [
      "Brr! It's cold!\n",
      "What a pleasant temperature!\n"
     ]
    }
   ],
   "source": [
    "#3 writing a function\n",
    "\n",
    "def hw3_function(count):\n",
    "    if count < 5:\n",
    "        print(\"Brr! It's cold!\")\n",
    "    elif count > 25:\n",
    "        print(\"It's pretty warm!\")\n",
    "    else:\n",
    "        print(\"What a pleasant temperature!\")\n",
    "    \n",
    "# hw3_function(3) worked\n",
    "# hw3_function(\"duck\") dsplayed error as expected\n",
    "\n",
    "hw3_function(17)"
   ]
  },
  {
   "cell_type": "code",
   "execution_count": null,
   "metadata": {
    "collapsed": true
   },
   "outputs": [],
   "source": [
    "#4 writing a regular expression\n",
    "\n",
    "DNA string = \"ATAATTAACGGAGCTTATTA\""
   ]
  }
 ],
 "metadata": {
  "anaconda-cloud": {},
  "kernelspec": {
   "display_name": "Python [default]",
   "language": "python",
   "name": "python3"
  },
  "language_info": {
   "codemirror_mode": {
    "name": "ipython",
    "version": 3
   },
   "file_extension": ".py",
   "mimetype": "text/x-python",
   "name": "python",
   "nbconvert_exporter": "python",
   "pygments_lexer": "ipython3",
   "version": "3.5.2"
  }
 },
 "nbformat": 4,
 "nbformat_minor": 2
}
